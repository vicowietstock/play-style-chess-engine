{
 "cells": [
  {
   "cell_type": "markdown",
   "metadata": {},
   "source": [
    "## Adapting MCTS parameters to emulate play style of specific human chess players\n",
    "\n",
    "by Vico Wietstock\n",
    "\n",
    "\n",
    "This Notebook was created as part of a bachelor thesis with the goal to train a set of tree search hyperparameters of Leela Chess Zero to better match the different style of human chess players."
   ]
  },
  {
   "cell_type": "code",
   "execution_count": null,
   "metadata": {
    "scrolled": true
   },
   "outputs": [],
   "source": [
    "import os \n",
    "import csv\n",
    "import numpy as np\n",
    "import matplotlib.pyplot as plt\n",
    "import timeit\n",
    "import chess\n",
    "import chess.pgn\n",
    "from sklearn.model_selection import train_test_split"
   ]
  },
  {
   "cell_type": "code",
   "execution_count": null,
   "metadata": {},
   "outputs": [],
   "source": [
    "def create_dataset(pgn, player):\n",
    "    '''\n",
    "    Create dataset with board position, move.\n",
    "    '''\n",
    "    # Create list of tuples, with board position and corresponding move of the player\n",
    "    dataset = []\n",
    "\n",
    "    # Parse through games\n",
    "    for i in pgn: \n",
    "        game = chess.pgn.read_game(pgn)\n",
    "        board = game.board()\n",
    "        player_color = \"w\"\n",
    "        if(game.headers[\"Black\"]==player):\n",
    "            player_color = \"b\"\n",
    "        # Extract board positions and corresponding moves for player of interest \n",
    "        for move in game.mainline_moves():\n",
    "            if(player_color in board.fen().partition(\" \")[2]): \n",
    "                dataset.append([board.fen(), str(move)])\n",
    "            board.push(move)\n",
    "    \n",
    "    return np.array(dataset)\n",
    "    "
   ]
  },
  {
   "cell_type": "code",
   "execution_count": null,
   "metadata": {},
   "outputs": [],
   "source": [
    "def start_engine(path):\n",
    "    '''\n",
    "    Instantiate engine through UCI protocol.\n",
    "    '''\n",
    "    command_line_flags = [path, \"-v\", \"--smart-pruning-factor=0.0\"]\n",
    "    \n",
    "    # Synchronous wrapper SimpleEngine that automatically spawns an event loop in the background\n",
    "    engine = chess.engine.SimpleEngine.popen_uci(command_line_flags)\n",
    "    \n",
    "    return engine\n"
   ]
  },
  {
   "cell_type": "code",
   "execution_count": null,
   "metadata": {},
   "outputs": [],
   "source": [
    "def analyze_position(board, parameter_values):  \n",
    "    '''\n",
    "    Retrieve analysis output of engine.\n",
    "    '''\n",
    "    parameter_names = [\"CPuct\", \"FpuValue\", \"PolicyTemperature\", \"DrawScoreSideToMove\", \"DrawScoreOpponent\", \"DrawScoreWhite\",\n",
    "                    \"DrawScoreBlack\"]\n",
    "    config = dict(zip(parameter_names, parameter_values[:-2]))\n",
    "    \n",
    "    engine_moves = []\n",
    "    engine_moves_n = []\n",
    "    q_values = []\n",
    "    \n",
    "    # Given current board position and config, retrieve engine analysis output through uci protocol\n",
    "    with engine.analysis(board, chess.engine.Limit(nodes=1000), options=config) as analysis:\n",
    "        rows = []\n",
    "        for info in analysis:\n",
    "            if info.get(\"string\")!= None:\n",
    "                rows.append(info.get(\"string\"))\n",
    "    \n",
    "    # Retrieve all possible moves, node visits and q values\n",
    "    for row in rows[:-1]:\n",
    "        move = row.partition(\" \")[0]\n",
    "        move_n = int(row.partition(\" (+\")[0].split(\" \")[-1])\n",
    "        q = float(row.partition(\") (U\")[0].split(\" \")[-1])\n",
    "        engine_moves.append(move)\n",
    "        engine_moves_n.append(move_n)\n",
    "        q_values.append(q)\n",
    "    \n",
    "    # Run dummy analysis with new board position, so that parameter configuration works?\n",
    "    fen = \"rnbqkbnr/pppppppp/8/8/8/8/PPPPPPPP/RNBQKBNR w KQkq - 0 1\"            \n",
    "    dummy = engine.analysis(chess.Board(fen), chess.engine.Limit(nodes=1))\n",
    "    dummy.stop()\n",
    "\n",
    "    return engine_moves, engine_moves_n, q_values\n"
   ]
  },
  {
   "cell_type": "code",
   "execution_count": null,
   "metadata": {},
   "outputs": [],
   "source": [
    "def get_one_hot(engine_moves, player_move):\n",
    "    '''\n",
    "    Create one-hot vector for move that player actually made. \n",
    "    '''\n",
    "    one_hot = [0]* len(engine_moves)\n",
    "    # Set value to 1 at index of move that player actually made\n",
    "    if player_move in engine_moves:\n",
    "        one_hot[engine_moves.index(player_move)] = 1\n",
    "        \n",
    "    return one_hot\n"
   ]
  },
  {
   "cell_type": "code",
   "execution_count": null,
   "metadata": {},
   "outputs": [],
   "source": [
    "def calculate_loss(one_hot, engine_move_probs):\n",
    "    '''\n",
    "    Calculate Categorical Cross Entropy. \n",
    "    '''\n",
    "    cross_entropy = -(np.nan_to_num(one_hot*np.log2(engine_move_probs))).sum()\n",
    "    \n",
    "    return cross_entropy\n"
   ]
  },
  {
   "cell_type": "code",
   "execution_count": null,
   "metadata": {},
   "outputs": [],
   "source": [
    "def update_parameters(parameter_values, gradients, learning_rate):\n",
    "    '''\n",
    "    Update parameter values according to gradients and learning rate.\n",
    "    '''    \n",
    "    parameter_values[:3] -= learning_rate*gradients[:3]\n",
    "    parameter_values[7:] -= learning_rate*gradients[7:]\n",
    "    for i in [3,4,5,6]:\n",
    "        if gradients[i] < 0:\n",
    "            parameter_values[i] += 1\n",
    "        elif gradients[i] > 0:\n",
    "            parameter_values[i] -= 1\n",
    "    \n",
    "    return parameter_values\n"
   ]
  },
  {
   "cell_type": "code",
   "execution_count": null,
   "metadata": {},
   "outputs": [],
   "source": [
    "def validate_parameters(parameter_values):\n",
    "    '''\n",
    "    Validate parameters according to value boundaries of engine input.\n",
    "    '''\n",
    "    for i in [3,4,5,6]:\n",
    "        if parameter_values[i]<-50:\n",
    "            parameter_values[i]=-50\n",
    "        elif parameter_values[i]>50:\n",
    "            parameter_values[i]=50\n",
    "    for i in [0,8]:\n",
    "        if parameter_values[i]<0:\n",
    "            parameter_values[i]=0\n",
    "        elif parameter_values[i]>100:\n",
    "            parameter_values[i]=100\n",
    "    if parameter_values[1]<-100:\n",
    "        parameter_values[1]=-100\n",
    "    elif parameter_values[1]>100:\n",
    "        parameter_values[1]=100\n",
    "    if parameter_values[2]<0.1:\n",
    "        parameter_values[2]=0.1\n",
    "    elif parameter_values[2]>10:\n",
    "        parameter_values[2]=10\n",
    "    if parameter_values[7]<0.0001:\n",
    "        parameter_values[7]=0.0001\n",
    "    elif parameter_values[7]>100:\n",
    "        parameter_values[7]=100\n",
    "        \n",
    "    return parameter_values\n"
   ]
  },
  {
   "cell_type": "code",
   "execution_count": null,
   "metadata": {},
   "outputs": [],
   "source": [
    "def get_selection_probs(parameter_values, engine_moves_n, q_values):\n",
    "    '''\n",
    "    Calculate selection probabilities based on move visit count and temperature.\n",
    "    '''    \n",
    "    temperature = parameter_values[7]\n",
    "    temp_value_cutoff = parameter_values[8]\n",
    "    selection_probs = []\n",
    "    summm = 0\n",
    "    \n",
    "    max_n = max(engine_moves_n)\n",
    "    max_eval = q_values[engine_moves_n.index(max_n)]        \n",
    "    min_eval = max_eval - temp_value_cutoff / 50\n",
    "    \n",
    "    for n, q in zip(engine_moves_n, q_values):\n",
    "        # Dont consider moves with win probability below cutoff for selection\n",
    "        if q < min_eval:\n",
    "            selection_probs.append(0)\n",
    "        else:\n",
    "            prob = (n / max_n) ** (1 / temperature)\n",
    "            selection_probs.append(prob)\n",
    "            summm += prob\n",
    "    \n",
    "    return [prob/summm for prob in selection_probs]\n"
   ]
  },
  {
   "cell_type": "code",
   "execution_count": null,
   "metadata": {},
   "outputs": [],
   "source": [
    "def get_numerical_gradients(parameter_values, board_position, player_move, loss):\n",
    "    '''\n",
    "    Calculate numerical gradients by analyzing position a second time, with perturbated parameter values.\n",
    "    '''\n",
    "    # Perturbations for each parameter are 1% / 0.1% of the value range\n",
    "    perturbations = [1, 2, 0.099, 1, 1, 1, 1, 1, 1]\n",
    "\n",
    "    gradients = [0]*len(parameter_values)\n",
    "    \n",
    "    # Execute search twice, with a small perturbation to each parameter\n",
    "    for parameter, i in zip(parameter_values, range(len(parameter_values))):\n",
    "        perturbation = perturbations[i]\n",
    "        parameter_values[i] = parameter + perturbation\n",
    "        parameter_values = validate_parameters(parameter_values)\n",
    "        engine_moves, engine_moves_n, q_values = analyze_position(chess.Board(board_position), parameter_values)\n",
    "        engine_move_probs = get_selection_probs(parameter_values, engine_moves_n, q_values)\n",
    "        one_hot = get_one_hot(engine_moves, player_move)\n",
    "        loss_perturbated = calculate_loss(one_hot, engine_move_probs)\n",
    "        \n",
    "        # Reset perturbation for current parameter\n",
    "        parameter_values[i] = parameter\n",
    "        \n",
    "        # Cut off loss to reasonable amount, in case that engine doesnt consider the actual move\n",
    "        if loss_perturbated > 5:\n",
    "            loss_perturbated = 5      \n",
    "    \n",
    "        # Calculate numerical gradients\n",
    "        gradients[i] = ((loss_perturbated-loss)/abs(perturbation))\n",
    "                        \n",
    "    return gradients\n"
   ]
  },
  {
   "cell_type": "markdown",
   "metadata": {},
   "source": [
    "## MAIN"
   ]
  },
  {
   "cell_type": "code",
   "execution_count": null,
   "metadata": {},
   "outputs": [],
   "source": [
    "# TODO: set player of interest here, according to the name in the dataset\n",
    "pgn = open(\"data/Kasparov_new.pgn\")\n",
    "player = \"Kasparov, Gary\"\n",
    "\n",
    "dataset_k = create_dataset(pgn, player)[:10000]"
   ]
  },
  {
   "cell_type": "code",
   "execution_count": null,
   "metadata": {},
   "outputs": [],
   "source": [
    "# TODO: set player of interest here, according to the name in the dataset\n",
    "pgn = open(\"data/Petrosian_new.pgn\")\n",
    "player = \"Petrosian, Tigran V\"\n",
    "\n",
    "dataset_p = create_dataset(pgn, player)[:10000]"
   ]
  },
  {
   "cell_type": "code",
   "execution_count": null,
   "metadata": {},
   "outputs": [],
   "source": [
    "# TODO: set dataset to be trained and tested on\n",
    "data_train, data_test = train_test_split(dataset_k, train_size=0.7, random_state=44)"
   ]
  },
  {
   "cell_type": "code",
   "execution_count": null,
   "metadata": {
    "scrolled": true
   },
   "outputs": [],
   "source": [
    "start = timeit.default_timer()\n",
    "\n",
    "# TODO: set path to lc0 working directory\n",
    "path = os.path.join()\n",
    "\n",
    "parameter_log = []\n",
    "loss_log = []\n",
    "prediction_acc = []\n",
    "convergence = False\n",
    "count = 0\n",
    "\n",
    "learning_rate = 0.001\n",
    "\n",
    "parameter_names = [\"CPuct\", \"FpuValue\", \"PolicyTemperature\", \"DrawScoreSideToMove\", \"DrawScoreOpponent\", \"DrawScoreWhite\",\n",
    "                    \"DrawScoreBlack\"]\n",
    "parameter_values = [1.75, 0.33, 1.36, 0, 0, 0, 0, 1, 60]\n",
    "parameter_log.append(parameter_values)\n",
    "\n",
    "engine = start_engine(path)\n",
    "\n",
    "\n",
    "# Iterative stochastic gradient descent, until convergence of gradients\n",
    "while convergence==False:\n",
    "    \n",
    "    gradients = np.zeros(len(parameter_values))\n",
    "    \n",
    "    for board_position, player_move in data_train:\n",
    "        # Analyze board position with current set of parameters\n",
    "        engine_moves, engine_moves_n, q_values = analyze_position(chess.Board(board_position), parameter_values)\n",
    "        engine_move_probs = get_selection_probs(parameter_values, engine_moves_n, q_values)\n",
    "        one_hot = get_one_hot(engine_moves, player_move)        \n",
    "        loss = calculate_loss(one_hot, engine_move_probs)\n",
    "        \n",
    "        # If engine accurately predicts move most likely to be made by human\n",
    "        if one_hot[-1]==1:\n",
    "            prediction_acc.append(1)\n",
    "        else:\n",
    "            prediction_acc.append(0)\n",
    "        \n",
    "        # Cut off loss to reasonable amount, in case that engine doesnt consider the actual move\n",
    "        if loss > 5:\n",
    "            loss = 5\n",
    "            \n",
    "        loss_log.append(loss) \n",
    "\n",
    "        # Update parameters following gradient descent rules\n",
    "        gradients += get_numerical_gradients(parameter_values, board_position, player_move, loss)\n",
    "        parameter_values = update_parameters(parameter_values, gradients, learning_rate)\n",
    "        parameter_values = validate_parameters(parameter_values)\n",
    "        parameter_log.append(list(parameter_values)) \n",
    "        \n",
    "        print(parameter_values)\n",
    "       \n",
    "        count+=1\n",
    "        print(\"COUNT: \", count)\n",
    "        if count==35000:\n",
    "            convergence=True\n",
    "            break\n",
    "                              \n",
    "        # Reset gradients after updating parameters\n",
    "        gradients = np.zeros(len(parameter_values))        \n",
    "    \n",
    "engine.quit()    \n",
    "\n",
    "stop = timeit.default_timer()\n",
    "\n",
    "print('Time: ', stop - start) "
   ]
  },
  {
   "cell_type": "code",
   "execution_count": null,
   "metadata": {
    "scrolled": true
   },
   "outputs": [],
   "source": [
    "print(len(loss_log))\n",
    "print(\"Original parameters: \", [1.75, 0.33, 1.36, 0, 0, 0, 0, 1, 60])\n",
    "print(\"Updated parameters: \", parameter_values)\n",
    "\n",
    "np.savetxt(\"./plots/N5x7000_Petrosian_2/parameter_log.csv\", \n",
    "           parameter_log,\n",
    "           delimiter =\", \", \n",
    "           fmt ='% s')\n",
    "np.savetxt(\"./plots/N5x7000_Petrosian_2/loss_log.csv\", \n",
    "           loss_log,\n",
    "           delimiter =\", \", \n",
    "           fmt ='% s')\n",
    "np.savetxt(\"./plots/N5x7000_Petrosian_2/prediction_accuracy_log.csv\", \n",
    "           prediction_acc,\n",
    "           delimiter =\", \", \n",
    "           fmt ='% s')"
   ]
  },
  {
   "cell_type": "code",
   "execution_count": null,
   "metadata": {},
   "outputs": [],
   "source": [
    "parameter_log = np.genfromtxt(\"./plots/N5x7000_Kasparov/parameter_log.csv\", delimiter=',', skip_header=True)\n",
    "parameter_values = []\n",
    "for i in range(9):\n",
    "    parameter_values.append(np.mean(parameter_log[:,i][30000:35000]))\n",
    "    \n",
    "np.savetxt(\"./plots/N5x7000_Kasparov/parameter_values_final.csv\", \n",
    "           parameter_values,\n",
    "           delimiter =\", \", \n",
    "           fmt ='% s')\n",
    "\n",
    "for i in [3,4,5,6]:\n",
    "    parameter_values[i] = round(parameter_values[i])\n",
    "    \n",
    "print(parameter_values)"
   ]
  },
  {
   "cell_type": "code",
   "execution_count": null,
   "metadata": {},
   "outputs": [],
   "source": [
    "loss_log = np.genfromtxt(\"./plots/N5x7000_Petrosian_2/loss_log.csv\", delimiter=',', skip_header=True)\n",
    "\n",
    "prediction_acc = np.genfromtxt(\"./plots/N5x7000_Petrosian_2/prediction_accuracy_log.csv\", delimiter=',', skip_header=True)"
   ]
  },
  {
   "cell_type": "markdown",
   "metadata": {},
   "source": [
    "### Plotting"
   ]
  },
  {
   "cell_type": "code",
   "execution_count": null,
   "metadata": {
    "scrolled": true
   },
   "outputs": [],
   "source": [
    "parameter_names = [\"CPuct\", \"FpuValue\", \"PolicyTemperature\", \"DrawScoreSideToMove\", \"DrawScoreOpponent\", \"DrawScoreWhite\",\n",
    "                    \"DrawScoreBlack\", \"Temperature\", \"TempValueCutoff\"]\n",
    "\n",
    "parameter_log = np.array(parameter_log[:35000])\n",
    "for name, parameter in zip(parameter_names, range(len(parameter_values))):\n",
    "    plt.plot(parameter_log[1:,parameter])\n",
    "    plt.ylabel(name)\n",
    "    plt.xlabel(\"steps\")\n",
    "    plt.savefig(\"./plots/N5x7000_Kasparov/\" + name + \".png\")\n",
    "    plt.show()"
   ]
  },
  {
   "cell_type": "code",
   "execution_count": null,
   "metadata": {},
   "outputs": [],
   "source": [
    "losses = []\n",
    "steps = []\n",
    "\n",
    "for i in range(len(loss_log))[::100]:\n",
    "    losses.append(np.mean(loss_log[i:i+100]))\n",
    "    steps.append(i+100)\n",
    "    \n",
    "losses_2 = []\n",
    "steps_2 = []\n",
    "\n",
    "for i in range(len(loss_log))[::1000]:\n",
    "    losses_2.append(np.mean(loss_log[i:i+1000]))\n",
    "    steps_2.append(i+500)\n",
    "    \n",
    "l = np.mean(loss_log) \n",
    "print(\"mean loss: \", l)\n",
    "    \n",
    "#plt.plot(steps[1:], losses[1:], label = \"100 steps\")\n",
    "plt.plot(steps_2, losses_2, label = \"1000 steps\")\n",
    "#plt.plot([0, len(loss_log)], [l, l], label = \"overall\")\n",
    "plt.ylabel(\"mean loss\")\n",
    "plt.xlabel(\"steps\")\n",
    "#plt.legend()\n",
    "plt.savefig(\"./plots/N5x7000_Petrosian_2/loss.png\")\n",
    "plt.show()"
   ]
  },
  {
   "cell_type": "code",
   "execution_count": null,
   "metadata": {
    "scrolled": true
   },
   "outputs": [],
   "source": [
    "accs = []\n",
    "steps = []\n",
    "\n",
    "for i in range(len(loss_log))[::100]:\n",
    "    accs.append(sum(prediction_acc[i:i+100])/100)\n",
    "    steps.append(i+100)\n",
    "    \n",
    "accs_2 = []\n",
    "steps_2 = []\n",
    "\n",
    "for i in range(len(loss_log))[::1000]:\n",
    "    accs_2.append(sum(prediction_acc[i:i+1000])/1000)\n",
    "    steps_2.append(i+500)\n",
    "    \n",
    "acc = (sum(prediction_acc)/len(prediction_acc))\n",
    "print(\"mean prediction acc: \", acc)\n",
    "    \n",
    "#plt.plot(steps, accs, label = \"100 steps\")\n",
    "plt.plot(steps_2, accs_2, label = \"1000 steps\")\n",
    "#plt.plot([0,len(loss_log)], [acc, acc], label = \"overall\")\n",
    "plt.ylabel(\"mean accuracy\")\n",
    "plt.xlabel(\"steps\")\n",
    "#plt.legend()\n",
    "plt.savefig(\"./plots/N5x7000_Petrosian_2/prediction_accuracy.png\")\n",
    "plt.show()"
   ]
  },
  {
   "cell_type": "markdown",
   "metadata": {},
   "source": [
    "## Testing"
   ]
  },
  {
   "cell_type": "code",
   "execution_count": null,
   "metadata": {
    "scrolled": true
   },
   "outputs": [],
   "source": [
    "loss_test_log = []\n",
    "prediction_acc_test = []\n",
    "engine = start_engine(path)\n",
    "\n",
    "# Test parameters with testing data\n",
    "for board_position, player_move in data_test:\n",
    "    # Analyze board position\n",
    "    engine_moves, engine_moves_n, q_values = analyze_position(chess.Board(board_position), parameter_values)\n",
    "    engine_move_probs = get_selection_probs(parameter_values, engine_moves_n, q_values)\n",
    "    one_hot = get_one_hot(engine_moves, player_move)        \n",
    "    loss = calculate_loss(one_hot, engine_move_probs)\n",
    "    \n",
    "    # If engine accurately predicts move most likely to be made by human\n",
    "    if one_hot[-1]==1:\n",
    "        prediction_acc_test.append(1)\n",
    "    else:\n",
    "        prediction_acc_test.append(0)\n",
    "    \n",
    "    # Cut off loss to reasonable amount, in case that engine doesnt consider the actual move\n",
    "    if loss > 5:\n",
    "        loss = 5\n",
    "    # OR : Ignore board position when engine doesnt consider actual move\n",
    "    # if loss > 10:\n",
    "        # continue\n",
    "    loss_test_log.append(loss)\n",
    "    \n",
    "    print(len(loss_test_log))\n",
    "    \n",
    "engine.quit()   "
   ]
  },
  {
   "cell_type": "code",
   "execution_count": null,
   "metadata": {},
   "outputs": [],
   "source": [
    "print(\"mean test loss: \", np.mean(loss_test_log))\n",
    "print(\"mean test prediction acc: \", sum(prediction_acc_test)/len(prediction_acc_test))"
   ]
  }
 ],
 "metadata": {
  "kernelspec": {
   "display_name": "Python 3",
   "language": "python",
   "name": "python3"
  },
  "language_info": {
   "codemirror_mode": {
    "name": "ipython",
    "version": 3
   },
   "file_extension": ".py",
   "mimetype": "text/x-python",
   "name": "python",
   "nbconvert_exporter": "python",
   "pygments_lexer": "ipython3",
   "version": "3.8.8"
  }
 },
 "nbformat": 4,
 "nbformat_minor": 2
}
