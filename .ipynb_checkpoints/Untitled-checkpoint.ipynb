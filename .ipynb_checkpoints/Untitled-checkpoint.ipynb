{
 "cells": [
  {
   "cell_type": "markdown",
   "metadata": {},
   "source": [
    "# Adapting MCTS parameters to emulate play style of specific human chess players"
   ]
  },
  {
   "cell_type": "code",
   "execution_count": 1,
   "metadata": {},
   "outputs": [],
   "source": [
    "import chess.pgn\n",
    "\n",
    "pgn = open(\"data/Kasparov_new.pgn\")\n",
    "\n",
    "game1 = chess.pgn.read_game(pgn)\n",
    "game2 = chess.pgn.read_game(pgn)\n",
    "game3 = chess.pgn.read_game(pgn)\n"
   ]
  },
  {
   "cell_type": "code",
   "execution_count": 17,
   "metadata": {},
   "outputs": [
    {
     "data": {
      "text/plain": [
       "'2r3R1/kp5p/p2Qp3/P3P2q/2B2p2/2R2p2/5P1P/7K w - - 6 42'"
      ]
     },
     "execution_count": 17,
     "metadata": {},
     "output_type": "execute_result"
    }
   ],
   "source": [
    "board = game1.board()\n",
    "for move in game1.mainline_moves():\n",
    "    board.push(move)\n",
    "    \n",
    "fen = board.fen()\n",
    "fen"
   ]
  },
  {
   "cell_type": "code",
   "execution_count": 3,
   "metadata": {},
   "outputs": [
    {
     "name": "stdout",
     "output_type": "stream",
     "text": [
      "e2e4\n",
      "e7e6\n",
      "d2d4\n",
      "d7d5\n",
      "b1d2\n",
      "g8f6\n",
      "e4e5\n",
      "f6e4\n",
      "d2e4\n",
      "d5e4\n",
      "c1e3\n",
      "b7b6\n",
      "g1e2\n",
      "c8b7\n",
      "e2g3\n",
      "c7c5\n",
      "d4c5\n",
      "d8d1\n",
      "a1d1\n",
      "f8c5\n",
      "e3c5\n",
      "b6c5\n",
      "f1b5\n",
      "e8e7\n",
      "e1g1\n",
      "b7c6\n",
      "b5c6\n",
      "b8c6\n",
      "g3e4\n",
      "c6e5\n",
      "e4c5\n",
      "a8c8\n",
      "b2b4\n",
      "h8d8\n",
      "f2f3\n",
      "a7a5\n",
      "c2c3\n",
      "a5b4\n",
      "c3b4\n",
      "e5c6\n",
      "d1d8\n",
      "c8d8\n",
      "b4b5\n",
      "c6b4\n",
      "f1b1\n",
      "b4d5\n",
      "b5b6\n",
      "d8b8\n",
      "b6b7\n",
      "d5c7\n",
      "b1b6\n",
      "e7d8\n",
      "g1f2\n",
      "c7d5\n",
      "b6d6\n",
      "d8c7\n",
      "d6d5\n",
      "e6d5\n",
      "c5a6\n",
      "c7b7\n",
      "a6b8\n",
      "b7b8\n",
      "f2e3\n",
      "b8c7\n",
      "e3d4\n",
      "c7c6\n",
      "a2a4\n",
      "c6b6\n",
      "d4d5\n",
      "b6a5\n",
      "d5d6\n",
      "a5a4\n",
      "d6e7\n",
      "f7f5\n",
      "e7f7\n"
     ]
    }
   ],
   "source": [
    "for move in game2.mainline_moves():\n",
    "    print(move)    "
   ]
  }
 ],
 "metadata": {
  "kernelspec": {
   "display_name": "Python 3",
   "language": "python",
   "name": "python3"
  },
  "language_info": {
   "codemirror_mode": {
    "name": "ipython",
    "version": 3
   },
   "file_extension": ".py",
   "mimetype": "text/x-python",
   "name": "python",
   "nbconvert_exporter": "python",
   "pygments_lexer": "ipython3",
   "version": "3.7.1"
  }
 },
 "nbformat": 4,
 "nbformat_minor": 2
}
